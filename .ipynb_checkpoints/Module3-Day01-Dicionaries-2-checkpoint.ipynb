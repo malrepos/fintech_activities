{
 "cells": [
  {
   "cell_type": "code",
   "execution_count": 4,
   "id": "c45c1856-0a16-4a36-bebf-bfece442e567",
   "metadata": {},
   "outputs": [
    {
     "name": "stdout",
     "output_type": "stream",
     "text": [
      "['genre']\n",
      "['drama', 'comedy', 'reality', 'talk', 'kids']\n",
      "['game_of_thrones', 'mad_men', 'dexter', 'stranger_things', 'the_walking_dead']\n",
      "['cast', 'num_seasons', 'creators', 'still_running']\n"
     ]
    }
   ],
   "source": [
    "# Use the `from` keyword to import the `shows` dictionary from the `show_data.py` file\n",
    "\n",
    "from show_data import shows\n",
    "print(list(shows))\n",
    "print(list(shows[\"genre\"]))\n",
    "print(list(shows[\"genre\"][\"drama\"]))\n",
    "print(list(shows[\"genre\"][\"drama\"][\"game_of_thrones\"]))\n"
   ]
  },
  {
   "cell_type": "code",
   "execution_count": 13,
   "id": "44654868-3868-484c-a19f-3c5f021f9ce0",
   "metadata": {},
   "outputs": [
    {
     "name": "stdout",
     "output_type": "stream",
     "text": [
      "Roger Bumpass\n"
     ]
    }
   ],
   "source": [
    "# QUESTION 1: Who is the actor that plays Squidward in Spongebob (kids)?\n",
    "print(shows[\"genre\"][\"kids\"][\"Spongebob\"][\"cast\"][3][\"actor\"])"
   ]
  },
  {
   "cell_type": "code",
   "execution_count": 16,
   "id": "aeef64d7-892d-41fc-a176-55e1a75ea9ac",
   "metadata": {},
   "outputs": [
    {
     "name": "stdout",
     "output_type": "stream",
     "text": [
      "https://www.imdb.com/name/nm0911320/?ref_=nv_sr_2\n"
     ]
    }
   ],
   "source": [
    "# QUESTION 2: Patrick Warburton plays Joe Swanson in Family Guy (comedy). What is the link to his imdb page?\n",
    "print(shows[\"genre\"][\"comedy\"][\"family_guy\"][\"cast\"][4][\"imdb\"])"
   ]
  },
  {
   "cell_type": "code",
   "execution_count": 17,
   "id": "625d21fb-862f-4235-bf5f-2a1cb0f9ec53",
   "metadata": {},
   "outputs": [
    {
     "name": "stdout",
     "output_type": "stream",
     "text": [
      "True\n"
     ]
    }
   ],
   "source": [
    "# QUESTION 3: Is the Walking Dead still running?\n",
    "print(shows[\"genre\"][\"drama\"][\"the_walking_dead\"][\"still_running\"])"
   ]
  },
  {
   "cell_type": "code",
   "execution_count": 32,
   "id": "5e11ce95-916d-4007-a751-bad0843d1d9d",
   "metadata": {},
   "outputs": [
    {
     "name": "stdout",
     "output_type": "stream",
     "text": [
      "Michael C. Hall Christine Cavanaugh\n"
     ]
    }
   ],
   "source": [
    "# QUESTION 4: Who plays Dexter in Dexter (drama) and who plays Dexter in Dexter's Lab (kids)?\n",
    "# HINT: You can print multiple items at once by using a comma like this: print(thing1, thing2)\n",
    "print(shows[\"genre\"][\"drama\"][\"dexter\"][\"cast\"][0][\"actor\"], shows[\"genre\"][\"kids\"][\"dexters_lab\"][\"cast\"][0][\"actor\"])"
   ]
  },
  {
   "cell_type": "code",
   "execution_count": 34,
   "id": "cdde1883-30da-4362-b27b-f96f7f17ac75",
   "metadata": {},
   "outputs": [
    {
     "name": "stdout",
     "output_type": "stream",
     "text": [
      "['Ross Duffer', 'Matt Duffer']\n"
     ]
    }
   ],
   "source": [
    "# QUESTION 5: Who are the creators of Stranger Things (drama)?\n",
    "print(shows[\"genre\"][\"drama\"][\"stranger_things\"][\"creators\"])"
   ]
  },
  {
   "cell_type": "code",
   "execution_count": 36,
   "id": "440f8d83-22d5-486c-816f-c93df9e90492",
   "metadata": {},
   "outputs": [
    {
     "name": "stdout",
     "output_type": "stream",
     "text": [
      "Trevor Noah\n"
     ]
    }
   ],
   "source": [
    "# QUESTION 6: Who hosts the Daily Show (talk)?\n",
    "print(shows[\"genre\"][\"talk\"][\"the_daily_show\"][\"host\"])"
   ]
  },
  {
   "cell_type": "code",
   "execution_count": 37,
   "id": "ccb1064d-5746-4353-8ea1-77bd11cca096",
   "metadata": {},
   "outputs": [
    {
     "name": "stdout",
     "output_type": "stream",
     "text": [
      "Whoopi Goldberg\n",
      "Barbara Walters\n",
      "Joy Behar\n",
      "Star Jones\n",
      "Meredith Vieira\n"
     ]
    }
   ],
   "source": [
    "# QUESTION 7: Who are all the hosts of the view (talk)\n",
    "# Hint: You will need to use a loop for this one. You may not simply log the entire list, but must log each name individually\n",
    "for host in shows[\"genre\"][\"talk\"][\"the_view\"][\"host\"]:\n",
    "    print(host)"
   ]
  },
  {
   "cell_type": "code",
   "execution_count": 44,
   "id": "c6237115-0f54-4684-a927-e7e5343f29f6",
   "metadata": {},
   "outputs": [
    {
     "name": "stdout",
     "output_type": "stream",
     "text": [
      "Murr\n",
      "Joe\n",
      "Sal\n",
      "Q\n"
     ]
    }
   ],
   "source": [
    "# QUESTION 8: What are the show names of the Impractical Jokers (comedy)\n",
    "# Hint: You will need to use a loop for this one. You may not simply log the entire list, but must log each name individually\n",
    "for show_name in shows[\"genre\"][\"comedy\"][\"impractical_jokers\"][\"cast\"]:\n",
    "    print(show_name[\"showName\"])"
   ]
  },
  {
   "cell_type": "code",
   "execution_count": 45,
   "id": "7162f735-e156-4ee2-bd5d-65941206a807",
   "metadata": {},
   "outputs": [
    {
     "name": "stdout",
     "output_type": "stream",
     "text": [
      "Michael Bluth\n"
     ]
    }
   ],
   "source": [
    "# QUESTION 9: Who does Will Arnett play in Arrested Development (comedy)\n",
    "print(shows[\"genre\"][\"comedy\"][\"arrested_development\"][\"cast\"][0][\"character\"])"
   ]
  },
  {
   "cell_type": "code",
   "execution_count": 47,
   "id": "c296ac9e-fa4c-4d8d-9558-0030cc2a4d56",
   "metadata": {},
   "outputs": [
    {
     "name": "stdout",
     "output_type": "stream",
     "text": [
      "Dan Green\n"
     ]
    }
   ],
   "source": [
    "# QUESTION 10: Who plays Yami Yugi in Yu-Gi-Oh (kids)?\n",
    "print(shows[\"genre\"][\"kids\"][\"yu_gi_oh\"][\"cast\"][0][\"actor\"])"
   ]
  },
  {
   "cell_type": "code",
   "execution_count": 48,
   "id": "e1f9b8f0-655b-4a8d-869e-af423ec78f0f",
   "metadata": {},
   "outputs": [
    {
     "name": "stdout",
     "output_type": "stream",
     "text": [
      "9\n"
     ]
    }
   ],
   "source": [
    "# QUESTION 11: How many seasons did the Office (comedy) run?\n",
    "print(shows[\"genre\"][\"comedy\"][\"the_office\"][\"num_seasons\"])"
   ]
  },
  {
   "cell_type": "code",
   "execution_count": 54,
   "id": "9953b0a1-64de-43e2-9492-c465af033bb6",
   "metadata": {},
   "outputs": [
    {
     "name": "stdout",
     "output_type": "stream",
     "text": [
      "Michael Scott\n",
      "John Krasinsky\n",
      "Dwight Schrute\n",
      "Pam Beasley\n",
      "Kelly Kapoor\n"
     ]
    }
   ],
   "source": [
    "# QUESTION 12: Who are the main characters of the Office (comedy) (not the actors, but the actual character names)?\n",
    "for character in shows[\"genre\"][\"comedy\"][\"the_office\"][\"cast\"]:\n",
    "    print(character[\"character\"])"
   ]
  },
  {
   "cell_type": "code",
   "execution_count": 5,
   "id": "3a53d068-d458-442b-9e71-38ec72a4239c",
   "metadata": {},
   "outputs": [
    {
     "name": "stdout",
     "output_type": "stream",
     "text": [
      "Robin\n",
      "Raven\n",
      "Cyborg\n",
      "Beast Boy\n",
      "Starfire\n"
     ]
    }
   ],
   "source": [
    "# QUESTION 13: List the characters in Teen Titans (kids)\n",
    "for character in shows[\"genre\"][\"kids\"][\"teen_titans\"][\"cast\"]:\n",
    "    print(character[\"character\"])"
   ]
  },
  {
   "cell_type": "code",
   "execution_count": 7,
   "id": "c5a7f984-71e7-4984-af9b-e5210edac21e",
   "metadata": {},
   "outputs": [
    {
     "name": "stdout",
     "output_type": "stream",
     "text": [
      "https://www.imdb.com/name/nm0444786/?ref_=nv_sr_1\n"
     ]
    }
   ],
   "source": [
    "# QUESTION 14: What is the link to the IMDB page for the actor who plays Mr. Krabs (Spongebob, kids)?\n",
    "print(shows[\"genre\"][\"kids\"][\"Spongebob\"][\"cast\"][0][\"imdb\"])"
   ]
  },
  {
   "cell_type": "code",
   "execution_count": 9,
   "id": "e716e4fa-c575-42ab-a037-6a2f035abe60",
   "metadata": {},
   "outputs": [
    {
     "name": "stdout",
     "output_type": "stream",
     "text": [
      "Jeffrey Dean Morgan\n"
     ]
    }
   ],
   "source": [
    "# QUESTION 15: Who plays Negan in The Walking Dead?\n",
    "print(shows[\"genre\"][\"drama\"][\"the_walking_dead\"][\"cast\"][2][\"actor\"])"
   ]
  },
  {
   "cell_type": "code",
   "execution_count": 10,
   "id": "fe9a6e28-6b08-4703-a8be-30c877aff243",
   "metadata": {},
   "outputs": [
    {
     "name": "stdout",
     "output_type": "stream",
     "text": [
      "Michael C. Hall\n",
      "Jennifer Carpenter\n",
      "David Zayas\n",
      "Desmond Harrington\n",
      "James Remar\n"
     ]
    }
   ],
   "source": [
    "# QUESTION 16: List the main cast of Dexter (drama) (the actors, not the characters)\n",
    "for actor in shows[\"genre\"][\"drama\"][\"dexter\"][\"cast\"]:\n",
    "    print(actor[\"actor\"])"
   ]
  },
  {
   "cell_type": "code",
   "execution_count": 11,
   "id": "ec1cb460-a961-4308-9902-80a3b2f3894a",
   "metadata": {},
   "outputs": [
    {
     "name": "stdout",
     "output_type": "stream",
     "text": [
      "False\n"
     ]
    }
   ],
   "source": [
    "# QUESTION 17: Is Game of Thrones(drama) still running?\n",
    "print(shows[\"genre\"][\"drama\"][\"dexter\"][\"still_running\"])"
   ]
  },
  {
   "cell_type": "code",
   "execution_count": 12,
   "id": "ffe053a7-4bad-415b-a4e4-a59e7bcdfa47",
   "metadata": {},
   "outputs": [
    {
     "name": "stdout",
     "output_type": "stream",
     "text": [
      "Tyrion Lannister\n"
     ]
    }
   ],
   "source": [
    "# QUESTION 18: Who does Peter Dinklage play in Game of Thrones (drama)?\n",
    "print(shows[\"genre\"][\"drama\"][\"game_of_thrones\"][\"cast\"][1][\"character\"])"
   ]
  },
  {
   "cell_type": "code",
   "execution_count": 14,
   "id": "ca9c2b12-ac76-4747-a2c0-f18bf7278534",
   "metadata": {},
   "outputs": [
    {
     "name": "stdout",
     "output_type": "stream",
     "text": [
      "['Simon Cowell', 'Randy Jackson', 'Paula Abdul']\n"
     ]
    }
   ],
   "source": [
    "# QUESTION 19: List the American Idol Judges\n",
    "print(shows[\"genre\"][\"reality\"][\"american_idol\"][\"judges\"])"
   ]
  },
  {
   "cell_type": "code",
   "execution_count": 16,
   "id": "5fffa5a5-dae7-405e-a573-7a5bfb0dc888",
   "metadata": {},
   "outputs": [
    {
     "name": "stdout",
     "output_type": "stream",
     "text": [
      "Gaten Matarazzo\n"
     ]
    }
   ],
   "source": [
    "# QUESTION 20: Who plays Dustin in Stanger Things (drama)?\n",
    "print(shows[\"genre\"][\"drama\"][\"stranger_things\"][\"cast\"][3][\"actor\"])"
   ]
  }
 ],
 "metadata": {
  "kernelspec": {
   "display_name": "Python 3 (ipykernel)",
   "language": "python",
   "name": "python3"
  },
  "language_info": {
   "codemirror_mode": {
    "name": "ipython",
    "version": 3
   },
   "file_extension": ".py",
   "mimetype": "text/x-python",
   "name": "python",
   "nbconvert_exporter": "python",
   "pygments_lexer": "ipython3",
   "version": "3.7.13"
  }
 },
 "nbformat": 4,
 "nbformat_minor": 5
}
