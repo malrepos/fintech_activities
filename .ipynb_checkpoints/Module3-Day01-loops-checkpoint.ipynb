{
 "cells": [
  {
   "cell_type": "code",
   "execution_count": 1,
   "id": "45495385-6753-473e-b2fc-c2af766e6eff",
   "metadata": {},
   "outputs": [],
   "source": [
    "# Declare an empty list named `our_list`.\n",
    "our_list = []"
   ]
  },
  {
   "cell_type": "code",
   "execution_count": 2,
   "id": "b7915d22-481a-4886-a7ec-c119d351ca55",
   "metadata": {},
   "outputs": [],
   "source": [
    "# Use the `append` list function to append the number 1 into `our_list`.\n",
    "our_list.append(1)"
   ]
  },
  {
   "cell_type": "code",
   "execution_count": 3,
   "id": "819903aa-7351-4f38-89a5-448b4b55d750",
   "metadata": {},
   "outputs": [],
   "source": [
    "# Append the string \"hello\" into `our_list`.\n",
    "our_list.append(\"hello\")"
   ]
  },
  {
   "cell_type": "code",
   "execution_count": 4,
   "id": "12e48cdb-b464-4b7f-a4d0-b89c6c7a1058",
   "metadata": {},
   "outputs": [],
   "source": [
    "# Append the boolean False into `our_list`.\n",
    "our_list.append(False)"
   ]
  },
  {
   "cell_type": "code",
   "execution_count": 5,
   "id": "4a3258d0-436f-4152-b37e-80f6ee174c02",
   "metadata": {},
   "outputs": [],
   "source": [
    "# Append the number 84 into `our_list`.\n",
    "our_list.append(84)"
   ]
  },
  {
   "cell_type": "code",
   "execution_count": 6,
   "id": "81f4e786-52f5-4062-b389-33d9eeff5d4a",
   "metadata": {},
   "outputs": [],
   "source": [
    "# Append the string \"world\" into `our_list`\n",
    "our_list.append(\"world\")"
   ]
  },
  {
   "cell_type": "code",
   "execution_count": 7,
   "id": "b258e28a-5d62-4e2e-894c-189e1b994856",
   "metadata": {},
   "outputs": [
    {
     "name": "stdout",
     "output_type": "stream",
     "text": [
      "[1, 'hello', False, 84, 'world']\n"
     ]
    }
   ],
   "source": [
    "# Print `our_list`\n",
    "print(our_list)"
   ]
  },
  {
   "cell_type": "code",
   "execution_count": 12,
   "id": "379e4c9b-937d-47de-8470-cb086d59428e",
   "metadata": {},
   "outputs": [],
   "source": [
    "# Declare a variable named `one_to_ten` and assign it an list containing the numbers from 1 to 10.\n",
    "one_to_ten = list(range(1, 11))"
   ]
  },
  {
   "cell_type": "code",
   "execution_count": 15,
   "id": "47502eac-46a6-4df4-908a-eccaf1c83f85",
   "metadata": {},
   "outputs": [
    {
     "name": "stdout",
     "output_type": "stream",
     "text": [
      "4\n"
     ]
    }
   ],
   "source": [
    "# Print the 4th element from `one_to_ten`.\n",
    "print(one_to_ten[3])"
   ]
  },
  {
   "cell_type": "code",
   "execution_count": 16,
   "id": "522ec552-786c-4264-8ed2-3f9ce624ff5a",
   "metadata": {},
   "outputs": [
    {
     "name": "stdout",
     "output_type": "stream",
     "text": [
      "7\n"
     ]
    }
   ],
   "source": [
    "# Print the 7th element from `one_to_ten`.\n",
    "print(one_to_ten[6])"
   ]
  },
  {
   "cell_type": "code",
   "execution_count": 17,
   "id": "1fb733e5-47ed-43e2-a009-b851793162de",
   "metadata": {},
   "outputs": [],
   "source": [
    "# We've declared this list for you\n",
    "num_list = [2, 65, 3, 7, 39, 22, 11, 94, 299, 9, 20, 21, 51, 37]"
   ]
  },
  {
   "cell_type": "code",
   "execution_count": 18,
   "id": "a31a770a-3d1f-4299-8308-379cdf47f1ff",
   "metadata": {},
   "outputs": [
    {
     "name": "stdout",
     "output_type": "stream",
     "text": [
      "65\n",
      "94\n",
      "299\n",
      "51\n"
     ]
    }
   ],
   "source": [
    "# Iterate through the provided `num_list` and create an if-else statement to print every number greater than 50\n",
    "for num in num_list:\n",
    "    if num > 50:\n",
    "        print(num)"
   ]
  },
  {
   "cell_type": "code",
   "execution_count": 21,
   "id": "3ea8836f-6f70-4139-a436-be3714878885",
   "metadata": {},
   "outputs": [
    {
     "name": "stdout",
     "output_type": "stream",
     "text": [
      "6\n"
     ]
    }
   ],
   "source": [
    "# Iterate through the provided `num_list` and use the `index` function to print the index of the first occurrence of the number 11.\n",
    "for num in num_list:\n",
    "    if num == 11:\n",
    "        print(num_list.index(num))"
   ]
  },
  {
   "cell_type": "code",
   "execution_count": 22,
   "id": "2515a39e-5e4d-4882-9447-ccc42f9a8f25",
   "metadata": {},
   "outputs": [
    {
     "name": "stdout",
     "output_type": "stream",
     "text": [
      "680\n"
     ]
    }
   ],
   "source": [
    "# Iterate through the provided `num_list` and print the sum of all the numbers.\n",
    "sum_num = 0\n",
    "for num in num_list:\n",
    "    sum_num += num\n",
    "print(sum_num)"
   ]
  },
  {
   "cell_type": "code",
   "execution_count": 25,
   "id": "b93c7cb9-48c2-4e63-a6df-8964a239ec4d",
   "metadata": {},
   "outputs": [
    {
     "name": "stdout",
     "output_type": "stream",
     "text": [
      "509\n"
     ]
    }
   ],
   "source": [
    "# Iterate through the provided `num_list` and create an if-else statement to print the sum of all the numbers greater than 50.\n",
    "sum_num = 0\n",
    "for num in num_list:\n",
    "    if num > 50:\n",
    "        sum_num += num\n",
    "print(sum_num)"
   ]
  },
  {
   "cell_type": "code",
   "execution_count": 27,
   "id": "99d7ec87-eb91-4de7-bf22-6356e4ecf38c",
   "metadata": {},
   "outputs": [
    {
     "name": "stdout",
     "output_type": "stream",
     "text": [
      "138\n"
     ]
    }
   ],
   "source": [
    "# Iterate through the provided `num_list` and create an if-else statement to print the sum of all the even numbers.\n",
    "sum_num = 0\n",
    "for num in num_list:\n",
    "    if num % 2 == 0:\n",
    "        sum_num += num\n",
    "print(sum_num)"
   ]
  },
  {
   "cell_type": "code",
   "execution_count": 28,
   "id": "fcecf82c-a8db-41e7-9ee4-86dd94b2d629",
   "metadata": {},
   "outputs": [],
   "source": [
    "fruits = [\n",
    "  \"Apple\", \"Orange\", \"Banana\", \"Pomelo\", \"Apple\", \"Kiwi\", \"Peach\", \"Banana\", \"Grape\", \"Tomato\",\n",
    "  \"Kiwi\", \"Apple\", \"Watermelon\", \"Lemon\", \"Pomelo\", \"Apple\", \"Banana\", \"Peach\", \"Apricot\", \"Grape\"]"
   ]
  },
  {
   "cell_type": "code",
   "execution_count": 29,
   "id": "af6da11d-cc54-417d-b40d-561e93fb5760",
   "metadata": {},
   "outputs": [
    {
     "name": "stdout",
     "output_type": "stream",
     "text": [
      "4\n"
     ]
    }
   ],
   "source": [
    "# Iterate through the provided `fruits` list and print the number of times \"Apple\" appears in the list.\n",
    "apple_num = 0\n",
    "for fruit in fruits:\n",
    "    if fruit == \"Apple\":\n",
    "        apple_num += 1\n",
    "print(apple_num)"
   ]
  },
  {
   "cell_type": "code",
   "execution_count": 31,
   "id": "36d6c68d-cfe0-4cb9-8582-af94c5fe741e",
   "metadata": {},
   "outputs": [
    {
     "name": "stdout",
     "output_type": "stream",
     "text": [
      "2\n"
     ]
    }
   ],
   "source": [
    "# Iterate through the provided `fruits` list and print the number of times \"Peach\" appears in the list.\n",
    "peach_num = 0\n",
    "for fruit in fruits:\n",
    "    if fruit == \"Peach\":\n",
    "        peach_num += 1\n",
    "print(peach_num)"
   ]
  },
  {
   "cell_type": "code",
   "execution_count": 33,
   "id": "8b90d88c-a92d-4717-9495-7da93600d0bd",
   "metadata": {},
   "outputs": [
    {
     "name": "stdout",
     "output_type": "stream",
     "text": [
      "4\n"
     ]
    }
   ],
   "source": [
    "# Iterate through the provided `fruits` list and print the number of fruits that start with \"P\" in the list.\n",
    "p_fruits = 0\n",
    "for fruit in fruits:\n",
    "    if fruit[0] == \"P\":\n",
    "        p_fruits += 1\n",
    "print(p_fruits)"
   ]
  },
  {
   "cell_type": "markdown",
   "id": "dd9eb4b9-8d4f-4c86-b0f2-1a57fef24997",
   "metadata": {},
   "source": [
    "## Challenge"
   ]
  },
  {
   "cell_type": "code",
   "execution_count": 34,
   "id": "f90dac60-21c8-48bb-8e9c-cd13d448690e",
   "metadata": {},
   "outputs": [],
   "source": [
    "# Create a new empty list named `unique_fruits`.\n",
    "unique_fruits = []"
   ]
  },
  {
   "cell_type": "code",
   "execution_count": 36,
   "id": "2d06be49-7e18-4a4f-bb88-298c11d4370c",
   "metadata": {},
   "outputs": [],
   "source": [
    "# Iterate through `fruits` and populate `unique_fruits` with only unique values from `fruits`. Hint: try looking up \"not in\" conditionals for if statements\n",
    "for fruit in fruits:\n",
    "    if fruit not in unique_fruits:\n",
    "        unique_fruits.append(fruit)"
   ]
  },
  {
   "cell_type": "code",
   "execution_count": 37,
   "id": "22a5dac7-6838-48a1-8a9b-1178941d2d0a",
   "metadata": {},
   "outputs": [
    {
     "name": "stdout",
     "output_type": "stream",
     "text": [
      "['Apple', 'Orange', 'Banana', 'Pomelo', 'Kiwi', 'Peach', 'Grape', 'Tomato', 'Watermelon', 'Lemon', 'Apricot']\n"
     ]
    }
   ],
   "source": [
    "# Print out the `unique_fruits` list.\n",
    "print(unique_fruits)"
   ]
  },
  {
   "cell_type": "code",
   "execution_count": 38,
   "id": "3caa5534-4fc9-4245-a3a3-3920283b7886",
   "metadata": {},
   "outputs": [],
   "source": [
    "# In this challenge we're going to be working with nested lists.\n",
    "# You can store any type of data within an list- even other lists!"
   ]
  },
  {
   "cell_type": "code",
   "execution_count": 39,
   "id": "562b34de-2ea6-4fd7-a8d4-c311809d1e31",
   "metadata": {},
   "outputs": [],
   "source": [
    "two_dim_list = [\n",
    "  [54, 6, 7, 46, 78],\n",
    "  [43, 9, 6, 65, 65],\n",
    "  [32, 1, 44, 1, 23],\n",
    "  [55, 12, 2, 34, 2],\n",
    "  [2, 12, 44, 2, 12]]"
   ]
  },
  {
   "cell_type": "code",
   "execution_count": 40,
   "id": "70591578-220b-43a5-bf13-03719673f6f7",
   "metadata": {},
   "outputs": [
    {
     "name": "stdout",
     "output_type": "stream",
     "text": [
      "6\n",
      "7\n"
     ]
    }
   ],
   "source": [
    "# Iterate through the first list inside `two_dim_list` and print all the numbers less than 25.\n",
    "for num in two_dim_list[0]:\n",
    "    if num < 25:\n",
    "        print(num)"
   ]
  },
  {
   "cell_type": "code",
   "execution_count": 41,
   "id": "26a0f882-649e-4121-98f4-32d56017be63",
   "metadata": {},
   "outputs": [
    {
     "name": "stdout",
     "output_type": "stream",
     "text": [
      "9\n",
      "6\n"
     ]
    }
   ],
   "source": [
    "# Iterate through the second list inside `two_dim_list` and print all the numbers less than 25.\n",
    "for num in two_dim_list[1]:\n",
    "    if num < 25:\n",
    "        print(num)"
   ]
  },
  {
   "cell_type": "code",
   "execution_count": 42,
   "id": "7f550ff3-0000-4f3f-973b-00ca3c6f6485",
   "metadata": {},
   "outputs": [
    {
     "name": "stdout",
     "output_type": "stream",
     "text": [
      "2\n",
      "12\n",
      "2\n",
      "12\n"
     ]
    }
   ],
   "source": [
    "# Iterate through the fifth list inside `two_dim_list` and print all the numbers less than 25.\n",
    "for num in two_dim_list[4]:\n",
    "    if num < 25:\n",
    "        print(num)"
   ]
  },
  {
   "cell_type": "code",
   "execution_count": 45,
   "id": "8176a90e-d205-403f-8315-5f9403776f07",
   "metadata": {},
   "outputs": [
    {
     "name": "stdout",
     "output_type": "stream",
     "text": [
      "7\n",
      "43\n",
      "9\n",
      "65\n",
      "65\n",
      "1\n",
      "1\n",
      "23\n",
      "55\n"
     ]
    }
   ],
   "source": [
    "# Iterate through `two_dim_list` and the lists inside of it and print all the odd numbers.\n",
    "for one_dim_list in two_dim_list:\n",
    "    for num in one_dim_list:\n",
    "        if num % 2 != 0:\n",
    "            print(num)"
   ]
  },
  {
   "cell_type": "code",
   "execution_count": 47,
   "id": "e8e49b35-974a-464d-960d-77028735f88e",
   "metadata": {},
   "outputs": [
    {
     "name": "stdout",
     "output_type": "stream",
     "text": [
      "189\n"
     ]
    }
   ],
   "source": [
    "# Iterate through `two_dim_list` and the lists inside of it and print the sum of all the numbers that are a multiple of 3.\n",
    "sum_num = 0\n",
    "for one_dim_list in two_dim_list:\n",
    "    for num in one_dim_list:\n",
    "        if num % 3 == 0:\n",
    "            sum_num += num\n",
    "print(sum_num)\n",
    "            "
   ]
  }
 ],
 "metadata": {
  "kernelspec": {
   "display_name": "Python 3 (ipykernel)",
   "language": "python",
   "name": "python3"
  },
  "language_info": {
   "codemirror_mode": {
    "name": "ipython",
    "version": 3
   },
   "file_extension": ".py",
   "mimetype": "text/x-python",
   "name": "python",
   "nbconvert_exporter": "python",
   "pygments_lexer": "ipython3",
   "version": "3.7.13"
  }
 },
 "nbformat": 4,
 "nbformat_minor": 5
}
