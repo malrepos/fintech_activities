{
 "cells": [
  {
   "cell_type": "markdown",
   "id": "d1305418-dd7b-4ff6-8eba-466a976583b3",
   "metadata": {},
   "source": [
    "\n",
    "\n",
    "\n",
    "\n",
    "\n",
    "\n",
    "\n",
    "\n",
    "\n",
    "\n",
    "\n",
    "\n",
    "\n",
    "\n",
    "\n",
    "\n",
    "\n",
    "\n",
    "\n",
    "\n",
    "\n",
    "\n",
    "\n",
    "\n",
    "\n"
   ]
  },
  {
   "cell_type": "code",
   "execution_count": 2,
   "id": "539aa258-6037-4427-af0e-54af373a19ba",
   "metadata": {},
   "outputs": [
    {
     "name": "stdin",
     "output_type": "stream",
     "text": [
      "Welcome to the Boba Shop! What is your name?  Mal\n"
     ]
    }
   ],
   "source": [
    "#Declare a variable of name with an input and a string of \"Welcome to the Boba Shop! What is your name?\"\n",
    "name = input(\"Welcome to the Boba Shop! What is your name? \")"
   ]
  },
  {
   "cell_type": "code",
   "execution_count": 9,
   "id": "b89ddf1b-7b9b-4252-9e1b-16140d35a3ba",
   "metadata": {},
   "outputs": [
    {
     "name": "stdout",
     "output_type": "stream",
     "text": [
      "Hello Mal.\n"
     ]
    }
   ],
   "source": [
    "#Check if name is not an empty string or equal to None.\n",
    "#If so, write a print statement with a string of \"Hello\" concatenated with the variable name.\n",
    "if name != None:\n",
    "    print(f\"Hello {name}.\")\n",
    "#Else, print the string of \"You didn't give us your name! Goodbye\".\n",
    "else:\n",
    "    print(\"You didn't give us your name! Goodbye.\")"
   ]
  },
  {
   "cell_type": "code",
   "execution_count": 10,
   "id": "4d825f63-c1a5-4b7f-bf5a-ebfaf50c0abd",
   "metadata": {},
   "outputs": [
    {
     "name": "stdin",
     "output_type": "stream",
     "text": [
      "What kind of boba drink would you like?  coffee\n"
     ]
    }
   ],
   "source": [
    "#Declare a variable of beverage with an input and a string of \"What kind of boba drink would you like?\"\n",
    "beverage = input(\"What kind of boba drink would you like? \")"
   ]
  },
  {
   "cell_type": "code",
   "execution_count": 12,
   "id": "1bc451e2-c88e-46d0-ad41-d5333241a530",
   "metadata": {},
   "outputs": [
    {
     "name": "stdin",
     "output_type": "stream",
     "text": [
      "How sweet do you want your drinl: 0, 50, 100, or 200? 0\n"
     ]
    }
   ],
   "source": [
    "#Declare a variable of sweetness_level with an input and a string of \"How sweet do you want your drink: 0, 50, 100, or 200?\"\n",
    "sweetness_level = input(\"How sweet do you want your drinl: 0, 50, 100, or 200?\")"
   ]
  },
  {
   "cell_type": "code",
   "execution_count": 13,
   "id": "154666e4-945b-4498-a302-2766f41a1216",
   "metadata": {},
   "outputs": [],
   "source": [
    "#If sweetness equals 50, declare a variable sweetness as \"half sweetened\".\n",
    "if sweetness_level == 50:\n",
    "    sweetness = \"half sweetened\"\n",
    "#Else if sweetness, declare a variable sweetness as \"normal sweet\".\n",
    "elif sweetness_level == 100:\n",
    "    sweetness = \"normal sweetened\"\n",
    "#Else if sweetness, declare a variable sweetness as \"super sweet\".\n",
    "elif sweetness_level == 200:\n",
    "    sweetness = \"super sweet\"\n",
    "#Else, declare a variable sweetness with a string of \"non-sweet\".\n",
    "else:\n",
    "    sweetness = \"non-sweet\""
   ]
  },
  {
   "cell_type": "code",
   "execution_count": 14,
   "id": "74afb5da-746b-47a6-a857-ce17eb751154",
   "metadata": {},
   "outputs": [
    {
     "name": "stdout",
     "output_type": "stream",
     "text": [
      "Your order of coffee boba with a sweetness level of non-sweet.\n"
     ]
    }
   ],
   "source": [
    "#Print the string of \"Your order of \" concatenated with the variable beverage, concatenated with \" boba with a sweet level of \", concatenated with the variable sweetness.\n",
    "print(f\"Your order of {beverage} boba with a sweetness level of {sweetness}.\")"
   ]
  }
 ],
 "metadata": {
  "kernelspec": {
   "display_name": "Python 3 (ipykernel)",
   "language": "python",
   "name": "python3"
  },
  "language_info": {
   "codemirror_mode": {
    "name": "ipython",
    "version": 3
   },
   "file_extension": ".py",
   "mimetype": "text/x-python",
   "name": "python",
   "nbconvert_exporter": "python",
   "pygments_lexer": "ipython3",
   "version": "3.7.13"
  }
 },
 "nbformat": 4,
 "nbformat_minor": 5
}
