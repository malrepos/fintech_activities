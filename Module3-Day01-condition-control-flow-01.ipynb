{
 "cells": [
  {
   "cell_type": "markdown",
   "id": "ef3c991d-3612-43e5-9f20-ec0afda0069e",
   "metadata": {},
   "source": [
    "# Condition Control Flow 01"
   ]
  },
  {
   "cell_type": "code",
   "execution_count": 1,
   "id": "c52e89ec-5a88-49ca-be0c-7abd0304a57f",
   "metadata": {},
   "outputs": [],
   "source": [
    "# Create a list called 'farm' with the elements \"pig\", \"cow\", \"chicken\", \"dog\", \"horse\", \"sheep\".\n",
    "farm = [\"pig\", \"cow\", \"chicken\", \"dog\", \"horse\", \"sheep\"]"
   ]
  },
  {
   "cell_type": "code",
   "execution_count": 2,
   "id": "9a0216d5-5548-4407-a5cd-d1642491bf6c",
   "metadata": {},
   "outputs": [
    {
     "name": "stdout",
     "output_type": "stream",
     "text": [
      "RWAR!\n"
     ]
    }
   ],
   "source": [
    "# Write an if statement that prints the string \"RWAR!\" if the first element of farm is NOT \"Godzilla\".\n",
    "if farm[0] != \"Godzilla\":\n",
    "    print(\"RWAR!\")"
   ]
  },
  {
   "cell_type": "code",
   "execution_count": 3,
   "id": "e2236302-463a-4d44-8f8d-6fe3cd04f4d9",
   "metadata": {},
   "outputs": [
    {
     "name": "stdout",
     "output_type": "stream",
     "text": [
      "This animal is neither Godzilla nor Mothra!\n"
     ]
    }
   ],
   "source": [
    "# Write an else if statement that prints the string \"SCREECH!\" if the last element of farm is \"Mothra\".\n",
    "if farm[-1] is \"Mothra\":\n",
    "    print(\"SCREECH\")\n",
    "# Else, print the string \"This animal is neither Godzilla nor Mothra!\".\n",
    "else:\n",
    "    print(\"This animal is neither Godzilla nor Mothra!\")"
   ]
  },
  {
   "cell_type": "code",
   "execution_count": 4,
   "id": "bc878095-592e-4515-af8c-fea9223357cf",
   "metadata": {},
   "outputs": [],
   "source": [
    "# Declare a variable named 'dog' with a string of \"Spot\".\n",
    "dog = \"Spot\""
   ]
  },
  {
   "cell_type": "code",
   "execution_count": 5,
   "id": "fe11bb4b-f64a-4b29-9eb8-1d552ec9a0cb",
   "metadata": {},
   "outputs": [],
   "source": [
    "# Declare 3 variables `cat`, `city`, `car` without assigning them values.\n",
    "cat = None\n",
    "city = None\n",
    "car = None"
   ]
  },
  {
   "cell_type": "code",
   "execution_count": 6,
   "id": "c89ffabd-9275-4d98-a808-e2b48cbce320",
   "metadata": {},
   "outputs": [],
   "source": [
    "# Assign the string \"Farley\" to `cat`.\n",
    "cat = \"Farley\""
   ]
  },
  {
   "cell_type": "code",
   "execution_count": 7,
   "id": "0ceefe0a-5146-44e6-8ab7-dd1ff84dac48",
   "metadata": {},
   "outputs": [],
   "source": [
    "# Assign the string \"San Francisco\" to `city`.\n",
    "city = \"San Fransisco\""
   ]
  },
  {
   "cell_type": "code",
   "execution_count": 8,
   "id": "cfac0606-22a4-418a-afd6-5d87b0aa88f9",
   "metadata": {},
   "outputs": [],
   "source": [
    "car = \"Prius\""
   ]
  },
  {
   "cell_type": "code",
   "execution_count": 9,
   "id": "ab3bfec5-91eb-4709-b258-9f83157904de",
   "metadata": {},
   "outputs": [
    {
     "name": "stdout",
     "output_type": "stream",
     "text": [
      "See Spot run\n"
     ]
    }
   ],
   "source": [
    "# Using string concatenation, print out the sentence \"See Spot run!\".\n",
    "print(f\"See {dog} run\")"
   ]
  },
  {
   "cell_type": "code",
   "execution_count": 12,
   "id": "33178752-e47d-490a-bf95-c44e3669722e",
   "metadata": {},
   "outputs": [
    {
     "name": "stdout",
     "output_type": "stream",
     "text": [
      "I drive Farley around San Fransisco in my Prius.\n"
     ]
    }
   ],
   "source": [
    "# Using string concatenation, print out the sentence \"I drive Farley around San Francisco in my Prius\".\n",
    "print(f\"I drive {cat} around {city} in my {car}.\")"
   ]
  },
  {
   "cell_type": "code",
   "execution_count": 13,
   "id": "dfbe0cf6-0570-4bda-83f5-f1090703ee6e",
   "metadata": {},
   "outputs": [],
   "source": [
    "# Declare a variable budget and assign it a value of 5000.\n",
    "budget = 5000"
   ]
  },
  {
   "cell_type": "code",
   "execution_count": 14,
   "id": "5f679537-cf3c-43cd-93c1-53f7d34aa631",
   "metadata": {},
   "outputs": [],
   "source": [
    "# Declare a variable rent_cost and assign it a value of 1500.\n",
    "rent_cost = 1500"
   ]
  },
  {
   "cell_type": "code",
   "execution_count": 15,
   "id": "beb36c5b-3b85-4be3-970c-893259e15192",
   "metadata": {},
   "outputs": [],
   "source": [
    "# Declare a variable utilities_cost and assign it a value of 150.\n",
    "utilities_cost = 150"
   ]
  },
  {
   "cell_type": "code",
   "execution_count": 16,
   "id": "e09d9029-0940-4ee9-bafa-9509c56480a0",
   "metadata": {},
   "outputs": [],
   "source": [
    "# Declare a variable food_cost and assign it a value of 250.\n",
    "food_cost = 250"
   ]
  },
  {
   "cell_type": "code",
   "execution_count": 17,
   "id": "168a8d01-94bc-415c-81bf-1d182ad1fde8",
   "metadata": {},
   "outputs": [],
   "source": [
    "# Declare a variable transportation_cost and assign it a value of 350.\n",
    "transportation_cost = 250"
   ]
  },
  {
   "cell_type": "code",
   "execution_count": 18,
   "id": "dc23b81d-a9d5-4875-b1b5-d9ee10a37ea4",
   "metadata": {},
   "outputs": [],
   "source": [
    "# Declare a variable computer_cost and assign it a value of 2000.\n",
    "computer_cost = 2000"
   ]
  },
  {
   "cell_type": "code",
   "execution_count": 19,
   "id": "1a886089-572f-4951-8a1c-dbaf730ef744",
   "metadata": {},
   "outputs": [],
   "source": [
    "# Declare a variable called total_cost that takes the sum of all costs above (excluding budget).\n",
    "total_cost = (rent_cost + utilities_cost + food_cost + transportation_cost + computer_cost)"
   ]
  },
  {
   "cell_type": "code",
   "execution_count": 23,
   "id": "732ffadd-4b69-4fbe-af3d-f824a3c7c7eb",
   "metadata": {},
   "outputs": [
    {
     "name": "stdout",
     "output_type": "stream",
     "text": [
      "Your total cost is $4150.\n"
     ]
    }
   ],
   "source": [
    "# Write an if statement that checks whether the sum of all our costs is within the budget.\n",
    "# If so, print \"You're total cost is \" concatentated with the `total_cost` variable.\n",
    "# Else, print \"You're over budget by \" concatenated with the difference between `budget` and `total_cost`.\n",
    "if total_cost <= budget:\n",
    "    print(f\"Your total cost is ${total_cost}.\")\n",
    "else:\n",
    "    print(f\"You're over budget by ${budget - total_cost}.\")"
   ]
  },
  {
   "cell_type": "code",
   "execution_count": 24,
   "id": "c778625b-2f6a-4489-8e9c-07ce74b07263",
   "metadata": {},
   "outputs": [
    {
     "name": "stdout",
     "output_type": "stream",
     "text": [
      "The rent is too damn high!\n"
     ]
    }
   ],
   "source": [
    "# Write an if statement that checks whether the rent_cost is larger than the sum of the `utilities_cost`, `food_cost`,\n",
    "# and `transportation_cost`. If so, print a string that says \"The rent is too damn high!\".\n",
    "# Else, print a string that says \"Ahhh just right!\"\n",
    "if rent_cost > (utilities_cost + food_cost + transportation_cost):\n",
    "    print(\"The rent is too damn high!\")\n",
    "else:\n",
    "    print(\"Ahhh just right!\")"
   ]
  }
 ],
 "metadata": {
  "kernelspec": {
   "display_name": "Python 3 (ipykernel)",
   "language": "python",
   "name": "python3"
  },
  "language_info": {
   "codemirror_mode": {
    "name": "ipython",
    "version": 3
   },
   "file_extension": ".py",
   "mimetype": "text/x-python",
   "name": "python",
   "nbconvert_exporter": "python",
   "pygments_lexer": "ipython3",
   "version": "3.7.13"
  }
 },
 "nbformat": 4,
 "nbformat_minor": 5
}
