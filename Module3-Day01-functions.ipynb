{
 "cells": [
  {
   "cell_type": "code",
   "execution_count": 1,
   "id": "46eba0cf-3153-49f1-815c-1422d8649b62",
   "metadata": {},
   "outputs": [],
   "source": [
    "# Define a function `having_fun` that prints \"Functions are FUN!\".\n",
    "def having_fun():\n",
    "    print(\"Functions are FUN!\")"
   ]
  },
  {
   "cell_type": "code",
   "execution_count": 3,
   "id": "a54749c7-a813-407a-a990-0016a61005bc",
   "metadata": {},
   "outputs": [],
   "source": [
    "# Define a function `thirty_seven` that prints the sum of 18 and 19.\n",
    "def thirty_seven():\n",
    "    print(18+19)"
   ]
  },
  {
   "cell_type": "code",
   "execution_count": 5,
   "id": "da4c8057-f913-445f-9acf-187232ba13a6",
   "metadata": {},
   "outputs": [
    {
     "name": "stdout",
     "output_type": "stream",
     "text": [
      "Functions are FUN!\n",
      "37\n"
     ]
    }
   ],
   "source": [
    "# Call the two functions you've defined so far.\n",
    "having_fun()\n",
    "thirty_seven()"
   ]
  },
  {
   "cell_type": "code",
   "execution_count": 6,
   "id": "45535154-4e29-4f2b-b8c8-8218bcd4e92b",
   "metadata": {},
   "outputs": [],
   "source": [
    "# Define a function `hello` that takes in a string parameter and prints the parameter variable.\n",
    "def hello(string_param):\n",
    "    print(string_param)"
   ]
  },
  {
   "cell_type": "code",
   "execution_count": 7,
   "id": "c25512d2-8412-4cd1-a15e-c7c161468d1a",
   "metadata": {},
   "outputs": [
    {
     "name": "stdout",
     "output_type": "stream",
     "text": [
      "some string parameter\n"
     ]
    }
   ],
   "source": [
    "hello(\"some string parameter\")"
   ]
  },
  {
   "cell_type": "code",
   "execution_count": 8,
   "id": "9b65527d-9548-4d1c-beb0-ff56db82b3c2",
   "metadata": {},
   "outputs": [],
   "source": [
    "# Define a function `user_input` that asks the user \"What is your name?\" and stores it in a variable called `user_name` and print the user's name.\n",
    "def user_input():\n",
    "    user_name = input(\"What is your name?\")\n",
    "    print(user_name)"
   ]
  },
  {
   "cell_type": "code",
   "execution_count": 9,
   "id": "bcbd2484-70f2-407e-a016-e9684c622cf0",
   "metadata": {},
   "outputs": [
    {
     "name": "stdin",
     "output_type": "stream",
     "text": [
      "What is your name? Mal\n"
     ]
    },
    {
     "name": "stdout",
     "output_type": "stream",
     "text": [
      "Mal\n"
     ]
    }
   ],
   "source": [
    "user_input()"
   ]
  },
  {
   "cell_type": "code",
   "execution_count": 10,
   "id": "0ad970c6-e802-4d94-afae-6c358c892d1a",
   "metadata": {},
   "outputs": [],
   "source": [
    "# Define a function `good_day` that creates a input dialogue asking the user \"Are you having a nice day?\" and prints the response.\n",
    "def good_day():\n",
    "    response = input(\"Are you having a nice day?\")\n",
    "    print(response)"
   ]
  },
  {
   "cell_type": "code",
   "execution_count": 11,
   "id": "9175f4c7-59b3-450a-a9ad-f59f32a34715",
   "metadata": {},
   "outputs": [
    {
     "name": "stdin",
     "output_type": "stream",
     "text": [
      "Are you having a nice day? No\n"
     ]
    },
    {
     "name": "stdout",
     "output_type": "stream",
     "text": [
      "No\n"
     ]
    }
   ],
   "source": [
    "# Call your `good_day` function.\n",
    "good_day()"
   ]
  },
  {
   "cell_type": "code",
   "execution_count": 12,
   "id": "d09eddfb-b1de-4029-bc71-87fd03579a66",
   "metadata": {},
   "outputs": [],
   "source": [
    "# Define a function `average` that calculates the average between two parameters and returns the average.\n",
    "def average(num1, num2):\n",
    "    return (num1 + num2)/2"
   ]
  },
  {
   "cell_type": "code",
   "execution_count": 13,
   "id": "b137dd25-2959-4bf0-9df1-1a8c7ca3be1f",
   "metadata": {},
   "outputs": [],
   "source": [
    "# Call the `average` function and assign to a variable `calculated_average`.\n",
    "calculated_average = average(7, 6)"
   ]
  },
  {
   "cell_type": "code",
   "execution_count": 14,
   "id": "be53e306-69fd-4675-b41f-6d3f31e81879",
   "metadata": {},
   "outputs": [
    {
     "name": "stdout",
     "output_type": "stream",
     "text": [
      "6.5\n"
     ]
    }
   ],
   "source": [
    "print(calculated_average)"
   ]
  }
 ],
 "metadata": {
  "kernelspec": {
   "display_name": "Python 3 (ipykernel)",
   "language": "python",
   "name": "python3"
  },
  "language_info": {
   "codemirror_mode": {
    "name": "ipython",
    "version": 3
   },
   "file_extension": ".py",
   "mimetype": "text/x-python",
   "name": "python",
   "nbconvert_exporter": "python",
   "pygments_lexer": "ipython3",
   "version": "3.7.13"
  }
 },
 "nbformat": 4,
 "nbformat_minor": 5
}
