{
 "cells": [
  {
   "cell_type": "code",
   "execution_count": 1,
   "id": "a5e32672-1dfa-4e0b-a87b-2709458c719f",
   "metadata": {},
   "outputs": [],
   "source": [
    "# san_francisco = {\n",
    "#     \"west_coast\": True,\n",
    "#     \"has_multiple_bridges\": True,\n",
    "#     \"known_for_pizza\": False,\n",
    "#     \"coastal\": True,\n",
    "#     \"snows\": False,\n",
    "#     \"very_hot\": False,\n",
    "#     \"mayor\": \"London Breed\",\n",
    "#     \"state\": \"California\",\n",
    "#     \"country\": \"USA\",\n",
    "#     \"best_food\": \"burritos\",\n",
    "#     \"sports_teams\": [\"Giants\", \"Warriors\", \"Forty-Niners\"],\n",
    "#     \"tallest_building\": \"SalesForce Building\",\n",
    "#     \"population\": 884363,\n",
    "#     \"city_size\": \"large\",\n",
    "#     \"median_house_price\": 1610000,\n",
    "#     \"famous_residents\": [\"Maya Angelou\", \"Robert Frost\", \"Carlos Santana\"],\n",
    "#     \"homeless_pop\": 1150,\n",
    "#     \"political_leaning\": \"Democrat\",\n",
    "#     \"notable_attractions\": [\"Alcatraz\", \"Golden Gate Bridge\", \"Fisherman's Wharf\"],\n",
    "#     \"natural_disasters\": [\"Earthquakes\"],\n",
    "# }\n",
    "\n",
    "# Re-create the content of the commented out `san_francisco` dictionary by using bracket notation to manually add each of the key-value pairs (including nested objects).\n",
    "\n"
   ]
  },
  {
   "cell_type": "code",
   "execution_count": 4,
   "id": "048ebc80-15c5-41ba-93b1-f2e3e6f4fefa",
   "metadata": {},
   "outputs": [],
   "source": [
    "san_fransisco = {\n",
    "    \"west_coast\" : True,\n",
    "    \"has_multiple_bridges\" : True,\n",
    "    \"known_for_pizza\" : False,\n",
    "    \"coastal\" : True,\n",
    "    \"snows\" : False,\n",
    "    \"very_hot\" : False,\n",
    "    \"mayor\" : \"London Breed\",\n",
    "    \"state\" : \"California\",\n",
    "    \"country\" : \"USA\",\n",
    "    \"best_food\" : \"burritos\",\n",
    "    \"sports_teams\" : [\"Giants\", \"Warriors\", \"49ers\"],\n",
    "    \"tallest_building\" : \"Salesforce Building\",\n",
    "    \"population\" : 884363,\n",
    "    \"city_size\" : \"large\",\n",
    "    \"median_house_price\" : 1610000,\n",
    "    \"famous_residents\" : [\"Maya Angelou\", \"Robert Frost\", \"Carlos Santana\"],\n",
    "    \"homeless_pop\" : 1150,\n",
    "    \"political_leaning\" : \"Democrat\",\n",
    "    \"notable_attractions\" : [\"Alcatraz\", \"Golden Gate Bridge\", \"Fisherman's Wharf\"],\n",
    "    \"natural_disasters\" : \"earthquake's\"\n",
    "}"
   ]
  },
  {
   "cell_type": "code",
   "execution_count": null,
   "id": "65a1f4e1-b371-4b86-91f3-a2adcb77cec4",
   "metadata": {},
   "outputs": [],
   "source": []
  }
 ],
 "metadata": {
  "kernelspec": {
   "display_name": "Python 3 (ipykernel)",
   "language": "python",
   "name": "python3"
  },
  "language_info": {
   "codemirror_mode": {
    "name": "ipython",
    "version": 3
   },
   "file_extension": ".py",
   "mimetype": "text/x-python",
   "name": "python",
   "nbconvert_exporter": "python",
   "pygments_lexer": "ipython3",
   "version": "3.7.13"
  }
 },
 "nbformat": 4,
 "nbformat_minor": 5
}
