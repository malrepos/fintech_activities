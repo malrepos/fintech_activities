{
 "cells": [
  {
   "cell_type": "code",
   "execution_count": 1,
   "id": "28c3c203-8dd8-438d-b332-8c773c91e0fb",
   "metadata": {},
   "outputs": [],
   "source": [
    "#Define a function warble that takes in a string as an argument, adds \" arglebargle\" to the end of it, and returns the result.\n",
    "def warble(my_string):\n",
    "    return (my_string + \"arglebargle\")"
   ]
  },
  {
   "cell_type": "code",
   "execution_count": 3,
   "id": "3993e324-7d0d-4fb1-bbca-ff788e021a81",
   "metadata": {},
   "outputs": [
    {
     "name": "stdout",
     "output_type": "stream",
     "text": [
      "helloarglebargle\n"
     ]
    }
   ],
   "source": [
    "#Print the result of calling your warble function with the argument \"hello\".\n",
    "print(warble(\"hello\"))"
   ]
  },
  {
   "cell_type": "code",
   "execution_count": 4,
   "id": "f14ee85e-b552-4c4c-b739-f40c7bab84e1",
   "metadata": {},
   "outputs": [],
   "source": [
    "#Define a function wibble that takes in a string as an argument, prints the argument, prepends \"wibbly\" to the argument, and returns the result.\n",
    "def wibble(my_string):\n",
    "    print(my_string)\n",
    "    return (\"wibble\" + my_string)"
   ]
  },
  {
   "cell_type": "code",
   "execution_count": 5,
   "id": "8c38daf8-9a2f-4ab3-9611-cd6d51684938",
   "metadata": {},
   "outputs": [
    {
     "name": "stdout",
     "output_type": "stream",
     "text": [
      "bibbly\n",
      "wibblebibbly\n"
     ]
    }
   ],
   "source": [
    "#Print the result of calling the wibble function with the argument \"bibbly\".\n",
    "print(wibble(\"bibbly\"))"
   ]
  },
  {
   "cell_type": "code",
   "execution_count": 7,
   "id": "0675c9e3-1956-4c90-8304-bbbca46c03fc",
   "metadata": {},
   "outputs": [],
   "source": [
    "#Define a function print_sum that takes in two numbers as arguments and prints the sum of those two numbers.\n",
    "def print_sum(num1, num2):\n",
    "    print(num1 + num2)"
   ]
  },
  {
   "cell_type": "code",
   "execution_count": 8,
   "id": "fad13069-b0a8-469f-a064-57f83ab110a4",
   "metadata": {},
   "outputs": [],
   "source": [
    "#Define a function return_sum that takes in two numbers as arguments and returns the sum of those two numbers.\n",
    "def return_sum(num1, num2):\n",
    "    return num1 + num2"
   ]
  },
  {
   "cell_type": "code",
   "execution_count": 9,
   "id": "25ee0b86-396f-4d63-be41-776cb66671e9",
   "metadata": {},
   "outputs": [],
   "source": [
    "#Define a function triple_sum that takes in three arguments and returns the sum of those three numbers.\n",
    "def triple_sum(num1, num2, num3):\n",
    "    return num1 + num2 + num3"
   ]
  },
  {
   "cell_type": "code",
   "execution_count": 10,
   "id": "5caac5b7-1874-44d1-b64b-b73676ff5e3f",
   "metadata": {},
   "outputs": [],
   "source": [
    "\"\"\"Define a function dance_party that:\n",
    "Takes in a string as an argument.\n",
    "Prints \"dance!\"\n",
    "Updates the string from calling the wibble function with that argument.\n",
    "Updates the string from calling the warble function with that argument.\n",
    "Returns the updated string.\"\"\"\n",
    "def dance_party(my_string):\n",
    "    print(\"dance!\")\n",
    "    my_string = wibble(my_string)\n",
    "    my_string = warble(my_string)\n",
    "    return my_string"
   ]
  },
  {
   "cell_type": "code",
   "execution_count": 11,
   "id": "fbbaaeb6-4ed4-4aed-867a-5ae9597f69a5",
   "metadata": {},
   "outputs": [
    {
     "name": "stdout",
     "output_type": "stream",
     "text": [
      "dance!\n",
      "Mal\n"
     ]
    },
    {
     "data": {
      "text/plain": [
       "'wibbleMalarglebargle'"
      ]
     },
     "execution_count": 11,
     "metadata": {},
     "output_type": "execute_result"
    }
   ],
   "source": [
    "#Print the result of calling your dance_party function with your name as the argument.\n",
    "dance_party(\"Mal\")"
   ]
  }
 ],
 "metadata": {
  "kernelspec": {
   "display_name": "Python 3 (ipykernel)",
   "language": "python",
   "name": "python3"
  },
  "language_info": {
   "codemirror_mode": {
    "name": "ipython",
    "version": 3
   },
   "file_extension": ".py",
   "mimetype": "text/x-python",
   "name": "python",
   "nbconvert_exporter": "python",
   "pygments_lexer": "ipython3",
   "version": "3.7.13"
  }
 },
 "nbformat": 4,
 "nbformat_minor": 5
}
