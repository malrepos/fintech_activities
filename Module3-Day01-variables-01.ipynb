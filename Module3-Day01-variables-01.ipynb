{
 "cells": [
  {
   "cell_type": "markdown",
   "id": "8fd0a279-b5f4-4b85-a79d-d8af7409cd41",
   "metadata": {},
   "source": [
    "# Topic: Strings"
   ]
  },
  {
   "cell_type": "code",
   "execution_count": 1,
   "id": "9f647fb1-099c-46ed-bd2c-c411dcffba19",
   "metadata": {},
   "outputs": [],
   "source": [
    "# Create a variable named `subject` with no value (None).\n",
    "subject = None"
   ]
  },
  {
   "cell_type": "code",
   "execution_count": 2,
   "id": "672e12c2-b3d6-4e1c-9cb0-7d8c1be1d2f5",
   "metadata": {},
   "outputs": [],
   "source": [
    "# Assign a value of \"Programmers to the variable `subject`.\n",
    "subject = \"Programmers\""
   ]
  },
  {
   "cell_type": "code",
   "execution_count": 3,
   "id": "11dc7825-eb2b-4770-b81b-19a7752e84db",
   "metadata": {},
   "outputs": [],
   "source": [
    "# Create a variable, `first_name`, and assign it a value of an empty string.\n",
    "first_name = ''"
   ]
  },
  {
   "cell_type": "code",
   "execution_count": 4,
   "id": "58cc4103-3b4c-4599-8337-bcef42b94008",
   "metadata": {},
   "outputs": [],
   "source": [
    "# Assign a value of \"Ada\" to the variable `first_name`.\n",
    "first_name = \"Ada\""
   ]
  },
  {
   "cell_type": "code",
   "execution_count": 5,
   "id": "b5c66db3-7a99-4fe2-97f7-cca78aef5c3f",
   "metadata": {},
   "outputs": [],
   "source": [
    "# Create a variable, `last_name`, and assign it a value of a string, \"Lovelace\".\n",
    "Last_name = \"Lovelace\""
   ]
  },
  {
   "cell_type": "code",
   "execution_count": 8,
   "id": "b4cc13d6-ce77-4b07-ba2d-1e026143455b",
   "metadata": {},
   "outputs": [],
   "source": [
    "# Create a variable, `full_name`, and assign it a value of the combination of `first_name` and `last_name` with a space.\n",
    "full_name = first_name + ' ' + Last_name"
   ]
  },
  {
   "cell_type": "code",
   "execution_count": 10,
   "id": "f66158c1-7994-4121-ac8f-45a6fdb5a868",
   "metadata": {},
   "outputs": [],
   "source": [
    "# Create a variable, `profession`, and assign it a value of a string, \"Computer Programmer\".\n",
    "profession = \"Computer Programmer\""
   ]
  },
  {
   "cell_type": "code",
   "execution_count": 11,
   "id": "02557db6-ccca-4f08-86b6-0cb0dc598a5a",
   "metadata": {},
   "outputs": [],
   "source": [
    "# Create a variable, `known_for`, and assign it a value of a string, \"First Computer Programmer\".\n",
    "known_for = \"First Computer Programmer\""
   ]
  },
  {
   "cell_type": "code",
   "execution_count": 12,
   "id": "f6288308-9795-499a-b743-365d441d4c4c",
   "metadata": {},
   "outputs": [],
   "source": [
    "# Create a variable, `first_algorithm`, and assign it a value of a string, \"Analytical Engine\".\n",
    "first_algorithm = \"Analytical Engine\""
   ]
  },
  {
   "cell_type": "code",
   "execution_count": 13,
   "id": "bb130786-9fed-41cc-9294-b648b7b65a62",
   "metadata": {},
   "outputs": [],
   "source": [
    "# Create a variable, `city_location`, and assign it a value of a string, \"London\".\n",
    "city_location = \"London\""
   ]
  },
  {
   "cell_type": "code",
   "execution_count": 14,
   "id": "6f7c8f72-da0e-4221-9157-7538438ffdfe",
   "metadata": {},
   "outputs": [],
   "source": [
    "# Create a variable, `country_location`, and assign it a value of a string, \"England\".\n",
    "country_location = \"England\""
   ]
  },
  {
   "cell_type": "code",
   "execution_count": 15,
   "id": "a952a662-3153-4126-858d-6c5718815da3",
   "metadata": {},
   "outputs": [],
   "source": [
    "# Create a variable, `nationality`, and assign it a value of a string, \"British\".\n",
    "nationality = \"British\""
   ]
  },
  {
   "cell_type": "markdown",
   "id": "173e53dd-9d6e-4d09-afa2-f95d2d0265b3",
   "metadata": {},
   "source": [
    "# Topic: Integers"
   ]
  },
  {
   "cell_type": "code",
   "execution_count": 16,
   "id": "ff58afcb-a33c-4e38-9928-fc9153388015",
   "metadata": {},
   "outputs": [],
   "source": [
    "# Create a variable, `birth_year`, and assign it with an integer of 1815.\n",
    "birth_year = 1815"
   ]
  },
  {
   "cell_type": "code",
   "execution_count": 17,
   "id": "5a69313d-4faa-434f-9ad0-290cd5efb331",
   "metadata": {},
   "outputs": [],
   "source": [
    "# Create a variable, `death_year`, and assign it with an integer of 1852.\n",
    "death_year = 1852"
   ]
  },
  {
   "cell_type": "code",
   "execution_count": 18,
   "id": "a3a4c7dc-6537-4506-a316-55d0eb4331bb",
   "metadata": {},
   "outputs": [],
   "source": [
    "# Create a variable, `age_at_passing`, and assign it a value of death_year minus birth_year.\n",
    "age_at_passing = death_year - birth_year"
   ]
  },
  {
   "cell_type": "code",
   "execution_count": 19,
   "id": "8c12c7d6-0aa7-4f3b-9023-6cb78a78fc58",
   "metadata": {},
   "outputs": [],
   "source": [
    "# Create a variable, `year_of_publish`, and assign it with an integer of 1842.\n",
    "year_of_publish = 1842"
   ]
  },
  {
   "cell_type": "markdown",
   "id": "5d30010a-0961-4963-8eb9-2f3449777892",
   "metadata": {},
   "source": [
    "# Topic: Print"
   ]
  },
  {
   "cell_type": "code",
   "execution_count": 20,
   "id": "291b556b-a707-4d56-9fcc-70a24e3fa91b",
   "metadata": {},
   "outputs": [
    {
     "name": "stdout",
     "output_type": "stream",
     "text": [
      "First name : Ada\n"
     ]
    }
   ],
   "source": [
    "# Print: \"First Name: \" and `first_name`.\n",
    "print(f\"First Name : {first_name}\")"
   ]
  },
  {
   "cell_type": "code",
   "execution_count": 21,
   "id": "fdbcfc27-3270-4e6d-86c6-f296c4423bcf",
   "metadata": {},
   "outputs": [
    {
     "name": "stdout",
     "output_type": "stream",
     "text": [
      "Last Name : Lovelace\n"
     ]
    }
   ],
   "source": [
    "# Print: \"Last Name: \" and `last_name`.\n",
    "print(f\"Last Name : {Last_name}\")"
   ]
  },
  {
   "cell_type": "code",
   "execution_count": 22,
   "id": "572eaf59-e7e5-4c5d-bbc4-efa916faac01",
   "metadata": {},
   "outputs": [
    {
     "name": "stdout",
     "output_type": "stream",
     "text": [
      "Profession : Computer Programmer\n"
     ]
    }
   ],
   "source": [
    "# Print: \"Profession: \" and `profession`.\n",
    "print(f\"Profession : {profession}\")"
   ]
  },
  {
   "cell_type": "code",
   "execution_count": 23,
   "id": "f479d517-50b9-409f-a730-5bc0427557da",
   "metadata": {},
   "outputs": [
    {
     "name": "stdout",
     "output_type": "stream",
     "text": [
      "Birth Year : 1815\n"
     ]
    }
   ],
   "source": [
    "# Print: \"BirthYear: \" and `birth_year`.\n",
    "print(f\"Birth Year : {birth_year}\")"
   ]
  },
  {
   "cell_type": "markdown",
   "id": "39c852a4-4695-42ad-9f81-482a88c0b4bf",
   "metadata": {},
   "source": [
    "# Topic: Concat Values"
   ]
  },
  {
   "cell_type": "code",
   "execution_count": 27,
   "id": "6b5582fd-8e61-4ae5-a41e-cee5e9f353c0",
   "metadata": {},
   "outputs": [
    {
     "name": "stdout",
     "output_type": "stream",
     "text": [
      "Programmers: Ada Lovelace is a British Computer Programmer born in 1815.\n"
     ]
    }
   ],
   "source": [
    "# Create and print a variable, `statement_one`, by assigning it a value of a concatenated string:\n",
    "# \"Programmers: Ada Lovelace is a British Computer Programmer born in 1815.\"\n",
    "statement_one = f\"{subject}: {full_name} is a {nationality} {profession} born in {birth_year}.\"\n",
    "print(statement_one)"
   ]
  },
  {
   "cell_type": "code",
   "execution_count": 31,
   "id": "6d8fe9be-2f5b-4379-8d9c-963a8a14e05e",
   "metadata": {},
   "outputs": [
    {
     "name": "stdout",
     "output_type": "stream",
     "text": [
      "She is commonly referred to as the First Computer Programmer.\n"
     ]
    }
   ],
   "source": [
    "# Create and print a variable, `statement_two`, by assigning it a value of a concatenated string:\n",
    "# \"She is commonly referred to as the First Computer Programmer.\"\n",
    "statement_two = f\"She is commonly referred to as the {known_for}.\"\n",
    "print(statement_two)"
   ]
  },
  {
   "cell_type": "code",
   "execution_count": 33,
   "id": "e3613046-43d7-4b41-8b8a-9e5bc9a4b29f",
   "metadata": {},
   "outputs": [
    {
     "name": "stdout",
     "output_type": "stream",
     "text": [
      "In Analytical Engine she published the first Algorithm, the Analytical Engine, at the age of 27.\n"
     ]
    }
   ],
   "source": [
    "# Create and print a variable, `statement_three`, by assigning it a value of a concatenated string:\n",
    "# \"In 1842 she published the first Algorithm, the Analytical Engine, at the age of 27.\"\n",
    "statement_three = f\"In {first_algorithm} she published the first Algorithm, the {first_algorithm}, at the age of {year_of_publish - birth_year}.\"\n",
    "print(statement_three)"
   ]
  },
  {
   "cell_type": "code",
   "execution_count": 34,
   "id": "fc65cec9-83ca-4704-9ef8-41236577d7a9",
   "metadata": {},
   "outputs": [
    {
     "name": "stdout",
     "output_type": "stream",
     "text": [
      "She was a British Citizen who lived in London, England unitl her passing in 1852 at the age of 37.\n"
     ]
    }
   ],
   "source": [
    "# Create and print a variable, `statement_four`, by assigning it a value of a concatenated string:\n",
    "# \"She was a British Citizen who lived in London, England until her passing in 1852 at the age of 37.\"\n",
    "statement_four = f\"She was a {nationality} Citizen who lived in {city_location}, {country_location} unitl her passing in {death_year} at the age of {death_year - birth_year}.\"\n",
    "print(statement_four)"
   ]
  },
  {
   "cell_type": "code",
   "execution_count": null,
   "id": "bd04c85d-b22a-4edb-9740-6ded667b5684",
   "metadata": {},
   "outputs": [],
   "source": []
  }
 ],
 "metadata": {
  "kernelspec": {
   "display_name": "Python 3 (ipykernel)",
   "language": "python",
   "name": "python3"
  },
  "language_info": {
   "codemirror_mode": {
    "name": "ipython",
    "version": 3
   },
   "file_extension": ".py",
   "mimetype": "text/x-python",
   "name": "python",
   "nbconvert_exporter": "python",
   "pygments_lexer": "ipython3",
   "version": "3.7.13"
  }
 },
 "nbformat": 4,
 "nbformat_minor": 5
}
