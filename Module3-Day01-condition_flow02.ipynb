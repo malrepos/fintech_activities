{
 "cells": [
  {
   "cell_type": "markdown",
   "id": "01065fb8-a9a4-4e0a-bab2-3f7e4a81d511",
   "metadata": {},
   "source": [
    "######################\n",
    "# Create Character One\n",
    "######################"
   ]
  },
  {
   "cell_type": "code",
   "execution_count": 1,
   "id": "f7af2b4c-8f24-44eb-b9fd-7d41ae490d67",
   "metadata": {},
   "outputs": [],
   "source": [
    "# Make a variable called `c1_name` and have it equal a string of \"Mr. Farley\".\n",
    "\n",
    "c1_name = \"Mr. Farley\""
   ]
  },
  {
   "cell_type": "code",
   "execution_count": 2,
   "id": "b6c3cc85-0d22-42dc-9592-2967d7cba515",
   "metadata": {},
   "outputs": [],
   "source": [
    "# Make a variable called `c1_age` and have it equal to an integer of 65.\n",
    "c1_age = 65"
   ]
  },
  {
   "cell_type": "code",
   "execution_count": 3,
   "id": "6766197c-028f-4b84-afb2-596658032669",
   "metadata": {},
   "outputs": [],
   "source": [
    "# Make a variable called `c1_profession` and have it equal to \"Web Developer\".\n",
    "c1_profession = \"Web Developer\""
   ]
  },
  {
   "cell_type": "code",
   "execution_count": 4,
   "id": "caf02b49-95b9-4025-9d27-5348912948ba",
   "metadata": {},
   "outputs": [],
   "source": [
    "# Make a variable called `c1_salary` and have it equal to 100000.\n",
    "c1_salary = 100000"
   ]
  },
  {
   "cell_type": "code",
   "execution_count": 5,
   "id": "7eebe416-5138-40cf-9b3a-9c7a2b59fb8f",
   "metadata": {},
   "outputs": [],
   "source": [
    "# Make a variable called `c1_species` and have it equal to \"cat\".\n",
    "c1_species = \"cat\""
   ]
  },
  {
   "cell_type": "code",
   "execution_count": 6,
   "id": "15cd9ad6-3fcd-45f2-83ff-3660caa1c3bb",
   "metadata": {},
   "outputs": [],
   "source": [
    "# Make a variable called `c1_location` and have it equal to \"San Francisco, CA\".\n",
    "c1_location = \"San Fransisco, CA\""
   ]
  },
  {
   "cell_type": "code",
   "execution_count": 7,
   "id": "e5257b3d-e7e6-4714-8871-9c0345567890",
   "metadata": {},
   "outputs": [],
   "source": [
    "# Make a variable called `c1_monthly_rent` and have it equal to 2000.\n",
    "c1_monthly_rent = 2000"
   ]
  },
  {
   "cell_type": "code",
   "execution_count": 8,
   "id": "ec3984f2-169c-4298-af33-cbd78db8473c",
   "metadata": {},
   "outputs": [],
   "source": [
    "# Make a variable called `c1_monthly_expenses` and have it equal to 1500.\n",
    "c1_monthly_expenses = 1500"
   ]
  },
  {
   "cell_type": "code",
   "execution_count": 9,
   "id": "cfdb56dd-4f13-4fa6-8a8c-d453cacd1866",
   "metadata": {},
   "outputs": [],
   "source": [
    "# Make a variable called `c1_yearly_rent` and have it equal to `c1_monthly_rent` * 12.\n",
    "c1_yearly_rent = (c1_monthly_rent * 12)"
   ]
  },
  {
   "cell_type": "code",
   "execution_count": 10,
   "id": "15082ab2-cb9c-48aa-8787-4e98cde75a80",
   "metadata": {},
   "outputs": [],
   "source": [
    "# Make a variable called `c1_yearly_expenses` and have it equal to 1500.00 * 12\n",
    "c1_yearly_expenses = 1500.00 * 12"
   ]
  },
  {
   "cell_type": "code",
   "execution_count": 11,
   "id": "9b296893-e915-446e-85ea-b0e53966525e",
   "metadata": {},
   "outputs": [],
   "source": [
    "# Make a variable called `c1_savings` and have it equal to `c1_salary` - (`c1_yearly_rent` + `c1_yearly_expenses`)\n",
    "c1_savings = c1_salary - (c1_yearly_rent + c1_yearly_expenses)"
   ]
  },
  {
   "cell_type": "markdown",
   "id": "9be49a23-cf3f-41cd-bc17-6701e05694ad",
   "metadata": {},
   "source": [
    "######################\n",
    "# Create Character Two\n",
    "######################"
   ]
  },
  {
   "cell_type": "code",
   "execution_count": 12,
   "id": "a8468b3b-4bea-407a-b33e-108d70c3f48c",
   "metadata": {},
   "outputs": [],
   "source": [
    "# Make a variable called `c2_name` and have it equal a string of \"Mr. Snuggles\".\n",
    "c2_name = \"Mr. Snuggles\""
   ]
  },
  {
   "cell_type": "code",
   "execution_count": 13,
   "id": "23858884-c87e-4c4c-9451-28fd2ea26934",
   "metadata": {},
   "outputs": [],
   "source": [
    "# Make a variable called `c2_age` and have it equal to an integer of 30.\n",
    "c2_age = 30"
   ]
  },
  {
   "cell_type": "code",
   "execution_count": 14,
   "id": "af987a48-9380-4f14-8fc7-533338296031",
   "metadata": {},
   "outputs": [],
   "source": [
    "# Make a variable called `c2_species` and have it equal to \"mouse\".\n",
    "c2_species = \"mouse\""
   ]
  },
  {
   "cell_type": "code",
   "execution_count": 15,
   "id": "243afd1e-6e3e-40d6-a8d8-2102eb5514fd",
   "metadata": {},
   "outputs": [],
   "source": [
    "# Make a variable called `c2_profession` and have it equal \"Accountant\"\n",
    "c2_profession = \"Accountant\""
   ]
  },
  {
   "cell_type": "code",
   "execution_count": 16,
   "id": "84227db6-effb-494b-a025-4d6ab9bb42b7",
   "metadata": {},
   "outputs": [],
   "source": [
    "# Make a variable called `c2_salary` and have it equal to 70000.\n",
    "c2_salary = 70000"
   ]
  },
  {
   "cell_type": "code",
   "execution_count": 17,
   "id": "4094088f-73f9-4f7e-8e91-a6840119b042",
   "metadata": {},
   "outputs": [],
   "source": [
    "# Make a variable called `c2_location` and have it equal to \"Oakland, CA\".\n",
    "c2_location = \"Oakland, CA\""
   ]
  },
  {
   "cell_type": "code",
   "execution_count": 18,
   "id": "d52f8c0b-5342-45c0-b102-0427a3ea456e",
   "metadata": {},
   "outputs": [],
   "source": [
    "# Make a variable called `c2_monthly_rent` and have it equal to 4000.\n",
    "c2_monthly_rent = 4000"
   ]
  },
  {
   "cell_type": "code",
   "execution_count": 19,
   "id": "dd348309-76a0-43fd-93be-0e7db62fa5f2",
   "metadata": {},
   "outputs": [],
   "source": [
    "# Make a variable called `c2_monthly_expenses` and have it equal to 500.\n",
    "c2_monthly_expenses = 500"
   ]
  },
  {
   "cell_type": "code",
   "execution_count": 20,
   "id": "0f0228b8-538a-4a08-a357-6f2f1cf62b79",
   "metadata": {},
   "outputs": [],
   "source": [
    "# Make a variable called `c2_yearly_rent` and have it equal to `c2_monthly_rent` * 12.\n",
    "c2_yearly_rent = c2_monthly_rent * 12"
   ]
  },
  {
   "cell_type": "code",
   "execution_count": 21,
   "id": "60217b71-75b1-4a58-afe3-c57a3c44dc56",
   "metadata": {},
   "outputs": [],
   "source": [
    "# Make a variable called `c2_yearly_expenses` and have it equal to `c2_monthly_expenses` * 12.\n",
    "c2_yearly_expenses = c2_monthly_expenses * 12"
   ]
  },
  {
   "cell_type": "code",
   "execution_count": 22,
   "id": "14ac3c7a-8c4b-4247-9260-4bb20cd50721",
   "metadata": {},
   "outputs": [],
   "source": [
    "# Make a variable called `c2_savings` and have it equal to `c2_salary` - (`c2_yearly_rent` + `c2_yearly_expenses`)\n",
    "c2_savings = c2_salary - (c2_yearly_rent + c2_yearly_expenses)"
   ]
  },
  {
   "cell_type": "markdown",
   "id": "bcde6b20-89bf-43fa-93c1-493e056c049c",
   "metadata": {},
   "source": [
    "##############\n",
    "# Conditionals\n",
    "##############"
   ]
  },
  {
   "cell_type": "code",
   "execution_count": 23,
   "id": "21cb8e15-3f81-41d0-8bea-3ac057a9b34d",
   "metadata": {},
   "outputs": [
    {
     "name": "stdout",
     "output_type": "stream",
     "text": [
      "Hello Mr. Farley.\n"
     ]
    }
   ],
   "source": [
    "# Write an if-else statement to check if `c1_name` is equal to \"Mr. Farley\". If so, print a string of \"Hello Mr. Farley\" using the `c1_name` variable. If not, print a string of \"Hello stranger\".\n",
    "if c1_name == \"Mr. Farley\":\n",
    "    print(f\"Hello {c1_name}.\")\n",
    "else:\n",
    "    print(\"Hello stranger.\")"
   ]
  },
  {
   "cell_type": "code",
   "execution_count": 24,
   "id": "6f67324e-7d3c-4318-9ffc-8c37bd687ca1",
   "metadata": {},
   "outputs": [
    {
     "name": "stdout",
     "output_type": "stream",
     "text": [
      "Mr. Farley is older than Mr. Snuggles.\n"
     ]
    }
   ],
   "source": [
    "# Write an if-else statement to check if `c2_age` is greater than `c1_age`. If so, print a string of \"Mr. Farley is older than Mr. Snuggles\". Else if `c1_age` is greater than `c2_age`, print a string of \"Mr. Snuggles is older than Mr. Farley\". Else, `c1_age` must have to be equal to `c2_age`, therefore print a string of \"Mr. Farley is the same age as Mr. Snuggles\".\n",
    "if c2_age > c1_age:\n",
    "    print(f\"{c2_name} is older than {c1_name}.\")\n",
    "elif c1_age > c2_age:\n",
    "    print(f\"{c1_name} is older than {c2_name}.\")\n",
    "else:\n",
    "    print(f\"{c1_name} is the same name as {c2_name}.\")"
   ]
  },
  {
   "cell_type": "code",
   "execution_count": 26,
   "id": "863348b2-1d93-430f-97d0-bc3388eef52b",
   "metadata": {},
   "outputs": [
    {
     "name": "stdout",
     "output_type": "stream",
     "text": [
      "Mr. Farley comes from the home fo the 49ers!\n"
     ]
    }
   ],
   "source": [
    "# Write an if-else statement to check if `c1_location` is equal to \"Oakland, CA\". If so, print a string of \"Mr. Farley comes from the home of the Raiders!\". Else if `c1_location` is equal to a string of \"San Francisco, CA\", print a string of \"Mr. Farley comes from the home of the 49ers!\". Else both conditions must not apply and therefore print a string \"Mr. Farley doesn't hail from a sports town.\"\n",
    "if c1_location == \"Oakland, CA\":\n",
    "    print(f\"{c1_name} comes from the home of the raiders.\")\n",
    "elif c1_location == \"San Fransisco, CA\":\n",
    "    print(f\"{c1_name} comes from the home fo the 49ers!\")\n",
    "else:\n",
    "    print(f\"{c1_name} doesn't hail from a sports town!\")"
   ]
  },
  {
   "cell_type": "code",
   "execution_count": 28,
   "id": "89188240-ad74-4cb9-8414-9dc043633d35",
   "metadata": {},
   "outputs": [
    {
     "name": "stdout",
     "output_type": "stream",
     "text": [
      "Mr. Farley pays less rent than Mr. Snuggles.\n"
     ]
    }
   ],
   "source": [
    "# Write an if-else statement to check if `c1_monthly_rent` is greater than `c2_monthly_rent`. If so, print a string of \"Mr. Farley pays more rent than Mr. Snuggles\". Else if `c1_monthly_rent` is less than `c2_monthly_rent`, print a string of \"Mr. Farley pays less rent than Mr. Snuggles\". Else, `c1_monthly_rent` must have to be equal to `c2_monthly_rent`, therefore print a string of \"Mr. Farley pays the same rent as Mr. Snuggles\".\n",
    "if c1_monthly_rent > c2_monthly_rent:\n",
    "    print(f\"{c1_name} pays more rent than {c2_name}.\")\n",
    "elif c1_monthly_rent < c2_monthly_rent:\n",
    "    print(f\"{c1_name} pays less rent than {c2_name}.\")\n",
    "else:\n",
    "    print(f\"{c1_name} pays the same rent as {c2_name}.\")"
   ]
  },
  {
   "cell_type": "code",
   "execution_count": 30,
   "id": "1c6c1bb1-87aa-4cb6-b055-61c54e52da0b",
   "metadata": {},
   "outputs": [
    {
     "name": "stdout",
     "output_type": "stream",
     "text": [
      "Mr. Farley has more expenses than Mr. Snuggles.\n"
     ]
    }
   ],
   "source": [
    "# Write an if-else statement to check if `c1_monthly_expenses` is greater than `c2_monthly_expenses`. If so, print a string of `Mr. Farley has more expenses than Mr. Snuggles`. Else if `c1_monthly_expenses` is less than `c2_monthly_expenses`, print a string of \"Mr. Farley pays less expenses than Mr. Snuggles\". Else, `c1_monthly_expenses` must have to be equal to `c2_monthly_expenses`, therefore print a string of \"Mr. Farley pays the same expenses at Mr. Snuggles\".\n",
    "if c1_monthly_expenses > c2_monthly_expenses:\n",
    "    print(f\"{c1_name} has more expenses than {c2_name}.\")\n",
    "elif c1_monthly_expenses < c2_monthly_expenses:\n",
    "    print(f\"{c1_name} has less expenses than {c2_name}.\")\n",
    "else:\n",
    "    print(f\"{c1_name} has the same expenses than {c2_name}.\")"
   ]
  },
  {
   "cell_type": "code",
   "execution_count": 32,
   "id": "3d8d09ca-eaed-48b2-92c9-e70fee6410b3",
   "metadata": {},
   "outputs": [
    {
     "name": "stdout",
     "output_type": "stream",
     "text": [
      "Look a Web Developer and an Accountant.\n"
     ]
    }
   ],
   "source": [
    "# Write an if-else statement to check if `c1_profession` is equal to \"Web Developer\" AND `c2_profession` is equal to \"Accountant\". If so, print a string of \"Look a Web Developer and an Accountant\", else print a string of \"They are professionals.\"\n",
    "if c1_profession == \"Web Developer\" and c2_profession == \"Accountant\":\n",
    "    print(f\"Look a {c1_profession} and an {c2_profession}.\")\n",
    "else:\n",
    "    print(\"They are professionals\")"
   ]
  }
 ],
 "metadata": {
  "kernelspec": {
   "display_name": "Python 3 (ipykernel)",
   "language": "python",
   "name": "python3"
  },
  "language_info": {
   "codemirror_mode": {
    "name": "ipython",
    "version": 3
   },
   "file_extension": ".py",
   "mimetype": "text/x-python",
   "name": "python",
   "nbconvert_exporter": "python",
   "pygments_lexer": "ipython3",
   "version": "3.7.13"
  }
 },
 "nbformat": 4,
 "nbformat_minor": 5
}
