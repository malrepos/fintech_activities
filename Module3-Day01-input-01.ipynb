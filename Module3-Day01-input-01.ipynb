{
 "cells": [
  {
   "cell_type": "code",
   "execution_count": 2,
   "id": "41b220d2-0f4a-4f47-9041-59738512de1a",
   "metadata": {},
   "outputs": [
    {
     "name": "stdin",
     "output_type": "stream",
     "text": [
      "Welcome to the sandwich shop, what do I call you?  Malcolm\n"
     ]
    }
   ],
   "source": [
    "# Declare a variable `welcome_name` as an input with a string of \"Welcome to the sandwich shop, what do I call you? \".\n",
    "welcome_name = input(\"Welcome to the sandwich shop, what do I call you? \")"
   ]
  },
  {
   "cell_type": "code",
   "execution_count": 3,
   "id": "9895b11c-6543-4475-a5ab-2d6950846560",
   "metadata": {},
   "outputs": [
    {
     "name": "stdout",
     "output_type": "stream",
     "text": [
      "Hello Malcolm.\n"
     ]
    }
   ],
   "source": [
    "# Then print the string \"Hello\" concatenated with the variable `welcome_name`.\n",
    "print(f\"Hello {welcome_name}.\")"
   ]
  },
  {
   "cell_type": "code",
   "execution_count": 6,
   "id": "17c39d58-ab41-4ddb-99b8-612809443c1b",
   "metadata": {},
   "outputs": [
    {
     "name": "stdin",
     "output_type": "stream",
     "text": [
      "Are you here for a sandwich? (Y/N) . y\n"
     ]
    }
   ],
   "source": [
    "# Declare a variable `question_sandwich` as an input with a string of \"Are you here for a sandwich? (Y/N) \".\n",
    "question_sandwich = input(f\"Are you here for a sandwich? (Y/N) .\").upper()"
   ]
  },
  {
   "cell_type": "code",
   "execution_count": 15,
   "id": "1521f277-e6d4-4afd-a6a9-e16e4d91e4e0",
   "metadata": {},
   "outputs": [
    {
     "name": "stdin",
     "output_type": "stream",
     "text": [
      "What kind of sandwich would you like? Bacon and Egg\n"
     ]
    }
   ],
   "source": [
    "# If `question_sandwich` is equal to \"Y\" or \"y\" declare a variable `food_prompt` as an input with a string of \"What kind of sandwich would you like?\".\n",
    "if question_sandwich == \"Y\":\n",
    "    food_prompt = input(\"What kind of sandwich would you like?\")\n",
    "# Else If `question_sandwich` is \"N\" or \"n\", print a string of \"If you don't want a sandwich what are you here for?!\".\n",
    "elif question_sandwich == \"N\":\n",
    "    print(\"If you don't want a sandwich what are you here for?!\")\n",
    "# Else print a string of \"You did not write Y or N!\"\n",
    "else:\n",
    "    print(\"You did not write Y or N!\")"
   ]
  },
  {
   "cell_type": "code",
   "execution_count": 16,
   "id": "5209eb08-4aee-4e9e-a706-c05d59b563b3",
   "metadata": {},
   "outputs": [
    {
     "name": "stdout",
     "output_type": "stream",
     "text": [
      "Please wait 10 mins for your Bacon and Egg sandwich.\n"
     ]
    }
   ],
   "source": [
    "# Then print a string of \"Please wait 10 min for your \" concatenated with the variable `food_prompt`.\n",
    "print(f\"Please wait 10 mins for your {food_prompt} sandwich.\")"
   ]
  }
 ],
 "metadata": {
  "kernelspec": {
   "display_name": "Python 3 (ipykernel)",
   "language": "python",
   "name": "python3"
  },
  "language_info": {
   "codemirror_mode": {
    "name": "ipython",
    "version": 3
   },
   "file_extension": ".py",
   "mimetype": "text/x-python",
   "name": "python",
   "nbconvert_exporter": "python",
   "pygments_lexer": "ipython3",
   "version": "3.7.13"
  }
 },
 "nbformat": 4,
 "nbformat_minor": 5
}
