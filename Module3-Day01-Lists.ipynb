{
 "cells": [
  {
   "cell_type": "markdown",
   "id": "9b378dfb-0960-45b7-a299-398a759353da",
   "metadata": {},
   "source": [
    "# Lists"
   ]
  },
  {
   "cell_type": "code",
   "execution_count": 1,
   "id": "e486b565-a912-4e64-bf83-567c4d58ce48",
   "metadata": {},
   "outputs": [],
   "source": [
    "#Create a list, list_1,  with 0, 1, 2, 3 as values.\n",
    "list_1 = [0, 1, 2, 3]"
   ]
  },
  {
   "cell_type": "code",
   "execution_count": 8,
   "id": "fc6adeb1-22f9-4b12-9bc0-6f5d6149af93",
   "metadata": {},
   "outputs": [],
   "source": [
    "#Create a list, list_2 with 4, 5, 6, 7 as values.\n",
    "list_2 = [4, 5, 6, 7]"
   ]
  },
  {
   "cell_type": "code",
   "execution_count": 3,
   "id": "7765f204-3fa8-4090-8743-1d0501841dab",
   "metadata": {},
   "outputs": [],
   "source": [
    "#Create a list, list_3 with 8, 9, 10, 11 as values.\n",
    "list_3 = [8, 9, 10, 11]"
   ]
  },
  {
   "cell_type": "code",
   "execution_count": 4,
   "id": "e7f6bd75-9e16-45c4-8855-490065c8156b",
   "metadata": {},
   "outputs": [],
   "source": [
    "#Create a list, list_4 with 12, 13, 14, 15 as values.\n",
    "list_4 = [12, 13, 14, 15]"
   ]
  },
  {
   "cell_type": "code",
   "execution_count": 6,
   "id": "7434c9c5-4949-419f-97f8-126f8e57225b",
   "metadata": {},
   "outputs": [
    {
     "name": "stdout",
     "output_type": "stream",
     "text": [
      "2\n"
     ]
    }
   ],
   "source": [
    "#Print the 3rd index of list_1.\n",
    "print(list_1[2])"
   ]
  },
  {
   "cell_type": "code",
   "execution_count": 9,
   "id": "c9291a5a-dee4-4631-94c6-5386b4802cfd",
   "metadata": {},
   "outputs": [
    {
     "name": "stdout",
     "output_type": "stream",
     "text": [
      "4\n"
     ]
    }
   ],
   "source": [
    "#Print the 1st index of list_2.\n",
    "print(list_2[0])"
   ]
  },
  {
   "cell_type": "code",
   "execution_count": 10,
   "id": "30a9c930-59e5-469c-8dc0-4a9a4437e297",
   "metadata": {},
   "outputs": [
    {
     "name": "stdout",
     "output_type": "stream",
     "text": [
      "9\n"
     ]
    }
   ],
   "source": [
    "#Print the 2nd index of list_3.\n",
    "print(list_3[1])"
   ]
  },
  {
   "cell_type": "code",
   "execution_count": 11,
   "id": "68f7822e-59a9-4d9d-8b48-c23903d34b8d",
   "metadata": {},
   "outputs": [
    {
     "name": "stdout",
     "output_type": "stream",
     "text": [
      "15\n"
     ]
    }
   ],
   "source": [
    "#Print the 4th index of list_4.\n",
    "print(list_4[3])"
   ]
  }
 ],
 "metadata": {
  "kernelspec": {
   "display_name": "Python 3 (ipykernel)",
   "language": "python",
   "name": "python3"
  },
  "language_info": {
   "codemirror_mode": {
    "name": "ipython",
    "version": 3
   },
   "file_extension": ".py",
   "mimetype": "text/x-python",
   "name": "python",
   "nbconvert_exporter": "python",
   "pygments_lexer": "ipython3",
   "version": "3.7.13"
  }
 },
 "nbformat": 4,
 "nbformat_minor": 5
}
